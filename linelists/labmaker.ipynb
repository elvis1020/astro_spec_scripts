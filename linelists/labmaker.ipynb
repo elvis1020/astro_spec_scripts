{
 "cells": [
  {
   "cell_type": "code",
   "execution_count": 9,
   "metadata": {
    "collapsed": false
   },
   "outputs": [],
   "source": [
    "import numpy as np\n",
    "import matplotlib.pyplot as plt"
   ]
  },
  {
   "cell_type": "code",
   "execution_count": 5,
   "metadata": {
    "collapsed": false
   },
   "outputs": [],
   "source": [
    "atfil = open('atom-uves-580.dat')\n",
    "cols = [raw.strip().split() for raw in atfil]\n",
    "trim = cols\n",
    "lineprops = []\n",
    "for n, i in enumerate(trim):\n",
    "    if (len(i) <= 4):\n",
    "        el = i[0][:-1]\n",
    "        if el == 'FE':\n",
    "            lineprops.append([i[0], float(i[1]), float(trim[n+1][0]), float(trim[n+1][1]), trim[n+1][2]])"
   ]
  },
  {
   "cell_type": "code",
   "execution_count": 10,
   "metadata": {
    "collapsed": false
   },
   "outputs": [],
   "source": [
    "out = open('laboratory-uves.dat', 'w')\n",
    "labfil = np.genfromtxt('first-list.dat', unpack=True)[0]\n",
    "chiexes = []\n",
    "for l in lineprops:\n",
    "    if l[1] in labfil:\n",
    "        if l[0] == 'FE2':\n",
    "            out.write('%7.2f %3s  %4.2f 99 %5.2f   %9s\\n'%(l[1], l[0], l[2], l[3], l[4]))\n",
    "        chiexes.append(l[2])\n",
    "for l in lineprops:\n",
    "    if l[1] in labfil:\n",
    "        if l[0] == 'FE1':\n",
    "            out.write('%7.2f %3s  %4.2f 99 %5.2f   %9s\\n'%(l[1], l[0], l[2], l[3], l[4]))\n",
    "        chiexes.append(l[2])\n",
    "out.close()"
   ]
  },
  {
   "cell_type": "code",
   "execution_count": 11,
   "metadata": {
    "collapsed": false
   },
   "outputs": [
    {
     "data": {
      "image/png": "[encoded data removed]",
      "text/plain": [
       "<matplotlib.figure.Figure at 0x7f118fab2950>"
      ]
     },
     "metadata": {},
     "output_type": "display_data"
    }
   ],
   "source": [
    "plt.hist(chiexes, 12, normed=1, facecolor='green')\n",
    "plt.show()"
   ]
  }
 ],
 "metadata": {
  "kernelspec": {
   "display_name": "Python 2",
   "language": "python",
   "name": "python2"
  },
  "language_info": {
   "codemirror_mode": {
    "name": "ipython",
    "version": 2
   },
   "file_extension": ".py",
   "mimetype": "text/x-python",
   "name": "python",
   "nbconvert_exporter": "python",
   "pygments_lexer": "ipython2",
   "version": "2.7.6"
  }
 },
 "nbformat": 4,
 "nbformat_minor": 0
}
